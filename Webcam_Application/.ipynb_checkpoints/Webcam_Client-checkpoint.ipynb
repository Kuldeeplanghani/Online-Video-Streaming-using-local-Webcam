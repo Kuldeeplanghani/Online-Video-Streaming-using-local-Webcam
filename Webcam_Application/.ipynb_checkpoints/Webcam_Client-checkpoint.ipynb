{
 "cells": [
  {
   "cell_type": "code",
   "execution_count": 9,
   "metadata": {
    "collapsed": true
   },
   "outputs": [],
   "source": [
    "import cv2\n",
    "import socket\n",
    "import time\n",
    "import StringIO\n",
    "from PIL import Image\n",
    "import base64\n",
    "import socket,os\n",
    "import numpy as np\n",
    "from cStringIO import StringIO"
   ]
  },
  {
   "cell_type": "code",
   "execution_count": 10,
   "metadata": {
    "collapsed": false,
    "scrolled": true
   },
   "outputs": [],
   "source": [
    "client_socket = socket.socket(socket.AF_INET, socket.SOCK_STREAM)\n",
    "client_socket.connect((\"\", 5008))"
   ]
  },
  {
   "cell_type": "code",
   "execution_count": null,
   "metadata": {
    "collapsed": false,
    "scrolled": true
   },
   "outputs": [],
   "source": [
    "while(19):\n",
    "    cv2.startWindowThread()\n",
    "    cv2.namedWindow(\"display3\")\n",
    "    img = client_socket.recv(921600);\n",
    "    frame = np.fromstring(img, dtype=np.uint8)\n",
    "    frame = np.reshape(frame, (480,640,3))\n",
    "    cv2.imshow(\"display3\", frame)\n",
    "    time.sleep(0.1)"
   ]
  }
 ],
 "metadata": {
  "kernelspec": {
   "display_name": "Python 2",
   "language": "python",
   "name": "python2"
  },
  "language_info": {
   "codemirror_mode": {
    "name": "ipython",
    "version": 2
   },
   "file_extension": ".py",
   "mimetype": "text/x-python",
   "name": "python",
   "nbconvert_exporter": "python",
   "pygments_lexer": "ipython2",
   "version": "2.7.12"
  }
 },
 "nbformat": 4,
 "nbformat_minor": 0
}
